{
 "cells": [
  {
   "cell_type": "markdown",
   "metadata": {},
   "source": [
    "# Manejo de Errores\n",
    "\n",
    "Ejercicios Realizados"
   ]
  }
 ],
 "metadata": {
  "interpreter": {
   "hash": "8c67d10a70fbac0121c8df7659e171b470b4086c6bbd2f11cee30cc43e896833"
  },
  "kernelspec": {
   "display_name": "Python 3.10.2 64-bit",
   "language": "python",
   "name": "python3"
  },
  "language_info": {
   "name": "python",
   "version": "3.10.2"
  },
  "orig_nbformat": 4
 },
 "nbformat": 4,
 "nbformat_minor": 2
}
