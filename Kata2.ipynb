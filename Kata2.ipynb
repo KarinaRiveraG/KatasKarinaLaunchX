{
 "cells": [
  {
   "cell_type": "markdown",
   "metadata": {},
   "source": [
    "# Ejercicio\n",
    "\n",
    "Crear un paquete"
   ]
  },
  {
   "cell_type": "markdown",
   "metadata": {},
   "source": [
    "- desde terminal ejecutar:\n",
    "\n",
    "python3 -m venv env \n",
    "\n",
    "- activar el entorno virtual con\n",
    "\n",
    "source env/Scripts/activate\n",
    "\n",
    "- para ver las bibliotecas del entorno\n",
    "\n",
    "pip freeze\n",
    "\n",
    "- instalar la siguiente biblioteca\n",
    "\n",
    "pip install python-dateutil\n",
    "\n",
    "- deactivate para desactivar el entorno virtual"
   ]
  }
 ],
 "metadata": {
  "interpreter": {
   "hash": "8c67d10a70fbac0121c8df7659e171b470b4086c6bbd2f11cee30cc43e896833"
  },
  "kernelspec": {
   "display_name": "Python 3.10.2 64-bit",
   "language": "python",
   "name": "python3"
  },
  "language_info": {
   "name": "python",
   "version": "3.10.2"
  },
  "orig_nbformat": 4
 },
 "nbformat": 4,
 "nbformat_minor": 2
}
